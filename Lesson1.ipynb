{
 "cells": [
  {
   "cell_type": "markdown",
   "id": "4dc323bc",
   "metadata": {},
   "source": [
    "### Задание 1"
   ]
  },
  {
   "cell_type": "markdown",
   "id": "65cfe270",
   "metadata": {},
   "source": [
    "Система векторов  называется линейно зависимой, если один из векторов системы можно представить в виде линейной комбинации остальных векторов системы, и линейно независимой - в противном случае."
   ]
  },
  {
   "cell_type": "markdown",
   "id": "0bf2c0c1",
   "metadata": {},
   "source": [
    "1) $ f_1\\left(x\\right)=𝑒^𝑥,f_2\\left(x\\right)=1,f_3\\left(x\\right)=𝑥+1,f_4\\left(x\\right)=𝑥−𝑒^𝑥. $\n",
    "\n",
    "Выразив четвёртую функцию через три остальных, получаем линейную зависимость:\n",
    "    \n",
    "$ f_4\\left(x\\right)=f_3\\left(x\\right)-f_2\\left(x\\right)-f_1\\left(x\\right) $"
   ]
  },
  {
   "cell_type": "markdown",
   "id": "870153ee",
   "metadata": {},
   "source": [
    "### Задание 2"
   ]
  },
  {
   "cell_type": "markdown",
   "id": "437f2c55",
   "metadata": {},
   "source": [
    "2) $ f_1\\left(x\\right)=2,f_2\\left(x\\right)=x,f_3\\left(x\\right)=x^2,f_4=\\left(x+1\\right)^2 $"
   ]
  },
  {
   "cell_type": "markdown",
   "id": "fb62b760",
   "metadata": {},
   "source": [
    "$ f_4\\left(x\\right)=f_3\\left(x\\right)+2\\cdot f_2\\left(x\\right)+0,5\\cdot f_1\\left(x\\right) $\n",
    "\n",
    "Это линейная зависимость"
   ]
  },
  {
   "cell_type": "markdown",
   "id": "e69ad76f",
   "metadata": {},
   "source": [
    "### Задание 3"
   ]
  },
  {
   "cell_type": "markdown",
   "id": "e6e34920",
   "metadata": {},
   "source": [
    "Найдите координаты вектора $x = (2, 3, 5)\\in \\mathbb{R}^{3}$ в базисе $b_{1}=(0, 0, 10)$, $b_{2}=(2, 0, 0)$, $b_{3}=(0, 1, 0)$."
   ]
  },
  {
   "cell_type": "markdown",
   "id": "4a55d451",
   "metadata": {},
   "source": [
    "$ x\\left(2,3,5\\right)=0,5b_1+b_2+3b_3 = (0,5, 1, 3) $"
   ]
  },
  {
   "cell_type": "markdown",
   "id": "454763a6",
   "metadata": {},
   "source": [
    "### Задание 4"
   ]
  },
  {
   "cell_type": "markdown",
   "id": "dbf25b3b",
   "metadata": {},
   "source": [
    "Найдите координаты вектора $3x^{2}-2x+2\\in\\mathbb{R}^{3}[x]$:\n",
    "\n",
    "а) в базисе $1$, $x$, $x^{2}$;\n",
    "\n",
    "б) в базисе $x^{2}$, $x-1$, $1$."
   ]
  },
  {
   "cell_type": "markdown",
   "id": "7559193b",
   "metadata": {},
   "source": [
    "а) (3, -2, 2)\n",
    "\n",
    "б) $ 3x^2-2x+2=3x^2-2\\left(x-1\\right) $, (3, -2, 0)"
   ]
  },
  {
   "cell_type": "markdown",
   "id": "08a8f3cb",
   "metadata": {},
   "source": [
    "### Задание 5"
   ]
  },
  {
   "cell_type": "markdown",
   "id": "500ee76a",
   "metadata": {},
   "source": [
    "Установите, считается ли линейным подпространством:\n",
    "\n",
    "а) совокупность всех векторов трёхмерного пространства, у которых по крайней мере одна из первых двух координат равна нулю;\n",
    "    \n",
    "б) все векторы, считающиеся линейными комбинациями данных векторов $\\{u_{1}, u_{2} \\ldots, u_{n}\\}$."
   ]
  },
  {
   "cell_type": "markdown",
   "id": "d2193e2e",
   "metadata": {},
   "source": [
    "Возьмём три вектора $ a(0, a_2, a_3), b(b_1, 0, b_3), c(c_1, 0, c_3) $ <br>\n",
    "При сложении этих векторов $ a + b + c = (b_1+c_1, a_2, a_3+b_3+c_3) $ <br>\n",
    "Ни одна из двух первых координат не равна нулю, следовательно, данная совокупность векторов не является линейным подпространством."
   ]
  },
  {
   "cell_type": "markdown",
   "id": "8112f02a",
   "metadata": {},
   "source": [
    "Возьмём два вектора $ a = 6u_1+9u_2+3u_3,b = 7u_4+4u_5+8u_6 $ <br>\n",
    "При сложении этих векторов: $ a + b = (6u_1+9u_2+3u_3+7u_4+4u_5+8u_6) $ <br>\n",
    "При умножении вектора a на скаляр K = 5: $ K * a = (30u_1+45u_2+9u_3) $ <br>\n",
    "Данная совокупность векторов является линейным пространством"
   ]
  },
  {
   "cell_type": "code",
   "execution_count": null,
   "id": "22802e3a",
   "metadata": {},
   "outputs": [],
   "source": []
  }
 ],
 "metadata": {
  "kernelspec": {
   "display_name": "Python 3",
   "language": "python",
   "name": "python3"
  },
  "language_info": {
   "codemirror_mode": {
    "name": "ipython",
    "version": 3
   },
   "file_extension": ".py",
   "mimetype": "text/x-python",
   "name": "python",
   "nbconvert_exporter": "python",
   "pygments_lexer": "ipython3",
   "version": "3.8.8"
  }
 },
 "nbformat": 4,
 "nbformat_minor": 5
}
