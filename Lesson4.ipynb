{
 "cells": [
  {
   "cell_type": "markdown",
   "id": "ccb8714f",
   "metadata": {},
   "source": [
    "### Задание 1"
   ]
  },
  {
   "cell_type": "markdown",
   "id": "7cc162b3",
   "metadata": {},
   "source": [
    "Вычислите определитель:\n",
    "\n",
    "   a)\n",
    "\n",
    "$$\\begin{vmatrix}\n",
    "sinx & -cosx\\\\ \n",
    "cosx & sinx\n",
    "\\end{vmatrix};$$\n",
    "\n",
    "   б)\n",
    "    \n",
    "$$\\begin{vmatrix}\n",
    "4 & 2 & 3\\\\ \n",
    "0 & 5 & 1\\\\ \n",
    "0 & 0 & 9\n",
    "\\end{vmatrix};$$\n",
    "    \n",
    "   в)\n",
    "\n",
    "$$\\begin{vmatrix}\n",
    "1 & 2 & 3\\\\ \n",
    "4 & 5 & 6\\\\ \n",
    "7 & 8 & 9\n",
    "\\end{vmatrix}.$$\n"
   ]
  },
  {
   "cell_type": "markdown",
   "id": "4590b0dd",
   "metadata": {},
   "source": [
    "а) $det(A)$ = $ sinx*sinx + cosx*cosx $ = 1 <br>\n",
    "б) $det(A)$ = $ 4*5*9 $ = 180 <br>\n",
    "в) $det(A)$ = $ 1*5*9 + 2*6*7 + 3*4*8 - 3*5*7 - 6*8*1 - 9*2*4 $ = 0"
   ]
  },
  {
   "cell_type": "markdown",
   "id": "15cd61f2",
   "metadata": {},
   "source": [
    "### Задание 2"
   ]
  },
  {
   "cell_type": "markdown",
   "id": "1dcc846b",
   "metadata": {},
   "source": [
    "Определитель матрицы $A$ равен $4$. Найдите:\n",
    "\n",
    "   а) $det(A^{2})$;\n",
    "    \n",
    "   б) $det(A^{T})$;\n",
    "    \n",
    "   в) $det(2A)$."
   ]
  },
  {
   "cell_type": "markdown",
   "id": "28e3b7de",
   "metadata": {},
   "source": [
    "а) $det(A^{2})$ = 16\n",
    "    \n",
    "б) $det(A^{T})$ = 4\n",
    "    \n",
    "в) $det(2A)$ = $ 4 * 2^3 $ = 32"
   ]
  },
  {
   "cell_type": "markdown",
   "id": "d8f1047d",
   "metadata": {},
   "source": [
    "### Задание 3"
   ]
  },
  {
   "cell_type": "markdown",
   "id": "0118281f",
   "metadata": {},
   "source": [
    "Докажите, что матрица:\n",
    "\n",
    "$$\\begin{pmatrix}\n",
    "-2 & 7 & -3\\\\ \n",
    "4 & -14 & 6\\\\ \n",
    "-3 & 7 & 13\n",
    "\\end{pmatrix}$$\n",
    "   \n",
    "вырожденная."
   ]
  },
  {
   "cell_type": "markdown",
   "id": "e628f61e",
   "metadata": {},
   "source": [
    "$det(A)$ = (-2)·(-14)·13 + 7·6·(-3) + (-3)·4·7 - (-3)·(-14)·(-3) - (-2)·6·7 - 7·4·13 = 364 - 126 - 84 + 126 + 84 - 364 = 0"
   ]
  },
  {
   "cell_type": "markdown",
   "id": "8dbc020a",
   "metadata": {},
   "source": [
    "Определитель равен нулю, следовательно матрица вырожденная."
   ]
  },
  {
   "cell_type": "markdown",
   "id": "fd113801",
   "metadata": {},
   "source": [
    "### Задание 4"
   ]
  },
  {
   "cell_type": "markdown",
   "id": "9c1263d6",
   "metadata": {},
   "source": [
    "Найдите ранг матрицы:\n",
    "\n",
    "   а) $\\begin{pmatrix}\n",
    "1 & 2 & 3\\\\ \n",
    "1 & 1 & 1\\\\ \n",
    "2 & 3 & 4\n",
    "\\end{pmatrix};$\n",
    "\n",
    "   б) $\\begin{pmatrix}\n",
    "0 & 0 & 2 & 1\\\\ \n",
    "0 & 0 & 2 & 2\\\\ \n",
    "0 & 0 & 4 & 3\\\\ \n",
    "2 & 3 & 5 & 6\n",
    "\\end{pmatrix}.$"
   ]
  },
  {
   "cell_type": "markdown",
   "id": "2e43ec3d",
   "metadata": {},
   "source": [
    "а) <br>\n",
    "3-ю строку можно отбросить, поскольку это сумма 1-й и 2-й строки <br>\n",
    "$\\begin{pmatrix}\n",
    "1 & 2 & 3\\\\ \n",
    "1 & 1 & 1\n",
    "\\end{pmatrix};$ <br>\n",
    "от 2 строки отнимаем 1 строку <br>\n",
    "$\\begin{pmatrix}\n",
    "1 & 2 & 3\\\\ \n",
    "0 & -1 & -2\n",
    "\\end{pmatrix};$ <br>\n",
    "2-ую строку делим на -1 <br>\n",
    "$\\begin{pmatrix}\n",
    "1 & 2 & 3\\\\ \n",
    "0 & 1 & 2\n",
    "\\end{pmatrix};$ <br>\n",
    "\n",
    "Так как ненулевых строк 2, то Rank(A) = 2."
   ]
  },
  {
   "cell_type": "markdown",
   "id": "fbcecb92",
   "metadata": {},
   "source": [
    "б) <br>\n",
    "3-ю строку можно отбросить, поскольку это сумма 1-й и 2-й строки <br>\n",
    "$\\begin{pmatrix}\n",
    "0 & 0 & 2 & 1\\\\ \n",
    "0 & 0 & 2 & 2\\\\\n",
    "2 & 3 & 5 & 6\n",
    "\\end{pmatrix}.$ <br>\n",
    "поменяем 1-ую строку и 3-ую строку местами <br>\n",
    "$\\begin{pmatrix}\n",
    "2 & 3 & 5 & 6\\\\ \n",
    "0 & 0 & 2 & 2\\\\\n",
    "0 & 0 & 2 & 1\n",
    "\\end{pmatrix}.$ <br>\n",
    "1-ую строку делим на 2 <br>\n",
    "$\\begin{pmatrix}\n",
    "1 & 1,5 & 2,5 & 3\\\\ \n",
    "0 & 0 & 2 & 2\\\\\n",
    "0 & 0 & 2 & 1\n",
    "\\end{pmatrix}.$ <br>\n",
    "2-ую строку делим на 2 <br>\n",
    "$\\begin{pmatrix}\n",
    "1 & 1,5 & 2,5 & 3\\\\ \n",
    "0 & 0 & 1 & 1\\\\\n",
    "0 & 0 & 2 & 1\n",
    "\\end{pmatrix}.$ <br>\n",
    "от 3 строки отнимаем 2 строку, умноженную на 2 <br>\n",
    "$\\begin{pmatrix}\n",
    "1 & 1,5 & 2,5 & 3\\\\ \n",
    "0 & 0 & 1 & 1\\\\\n",
    "0 & 0 & 0 & -1\n",
    "\\end{pmatrix}.$ <br>\n",
    "3-ую строку делим на -1 <br>\n",
    "$\\begin{pmatrix}\n",
    "1 & 1,5 & 2,5 & 3\\\\ \n",
    "0 & 0 & 1 & 1\\\\\n",
    "0 & 0 & 0 & 1\n",
    "\\end{pmatrix}.$ <br>\n",
    "\n",
    "Так как ненулевых строк 3, то Rank(A) = 3."
   ]
  },
  {
   "cell_type": "code",
   "execution_count": null,
   "id": "5e1e60d9",
   "metadata": {},
   "outputs": [],
   "source": []
  }
 ],
 "metadata": {
  "kernelspec": {
   "display_name": "Python 3",
   "language": "python",
   "name": "python3"
  },
  "language_info": {
   "codemirror_mode": {
    "name": "ipython",
    "version": 3
   },
   "file_extension": ".py",
   "mimetype": "text/x-python",
   "name": "python",
   "nbconvert_exporter": "python",
   "pygments_lexer": "ipython3",
   "version": "3.8.8"
  }
 },
 "nbformat": 4,
 "nbformat_minor": 5
}
